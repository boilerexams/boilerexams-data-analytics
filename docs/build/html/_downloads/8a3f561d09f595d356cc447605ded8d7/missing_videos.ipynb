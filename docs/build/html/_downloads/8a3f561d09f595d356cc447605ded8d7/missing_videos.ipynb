{
  "cells": [
    {
      "cell_type": "markdown",
      "metadata": {},
      "source": [
        "\n# Missing Videos\n\nStatistics related to missing question videos\n"
      ]
    },
    {
      "cell_type": "code",
      "execution_count": null,
      "metadata": {
        "collapsed": false
      },
      "outputs": [],
      "source": [
        "import polars as pl\n\nimport src\n\nquery = \"\"\"SELECT data, \"explanationId\"\nFROM public.\"Resource\" \nWHERE \"type\" = 'VIDEO'\n\"\"\"\n\ndfr = src.exec_postgres_query(query)\n\ndfr = dfr.with_columns(yt_link=pl.col(\"data\").struct[0]).drop(\"data\")\ndfq = src.load_tables(\"question\")\ndfe = src.load_tables(\"explanation\")\ndfc = src.load_tables(\"course\")\n\ndfq = (\n    dfq.join(dfe, left_on=\"id\", right_on=\"questionId\")\n    .join(dfr, left_on=\"id_right\", right_on=\"explanationId\", how=\"left\")\n    .join(dfc, left_on=\"courseId\", right_on=\"id\")\n    .with_columns(\n        course_name=pl.col(\"abbreviation\") + \" \" + pl.col(\"number_right\").cast(str)\n    )\n)\n\ndfq = (\n    dfq.group_by(\"course_name\")\n    .agg(\n        pl.col(\"yt_link\").count().alias(\"question_videos\"),\n        pl.col(\"yt_link\").is_null().sum().alias(\"missing_question_videos\"),\n        pl.col(\"id\").count().alias(\"total_questions\"),\n    )\n    .sort(\"missing_question_videos\")\n)\n\ndfq = dfq.with_columns(\n    (100 * pl.col(\"missing_question_videos\") / pl.col(\"total_questions\")).alias(\n        \"missing_percent\"\n    )\n)\n\ntotal_missing_question_videos = dfq[\"missing_question_videos\"].sum()\ntotal_videos = dfq[\"question_videos\"].sum()\ntotal_questions = dfq[\"total_questions\"].sum()\nprint(total_missing_question_videos)\nprint(total_videos)\nprint(total_missing_question_videos / total_questions * 100)\n\npl.Config().set_tbl_rows(100)\n# print(dfq)"
      ]
    }
  ],
  "metadata": {
    "kernelspec": {
      "display_name": "Python 3",
      "language": "python",
      "name": "python3"
    },
    "language_info": {
      "codemirror_mode": {
        "name": "ipython",
        "version": 3
      },
      "file_extension": ".py",
      "mimetype": "text/x-python",
      "name": "python",
      "nbconvert_exporter": "python",
      "pygments_lexer": "ipython3",
      "version": "3.11.10"
    }
  },
  "nbformat": 4,
  "nbformat_minor": 0
}