{
  "cells": [
    {
      "cell_type": "markdown",
      "metadata": {},
      "source": [
        "\n# Operating System Accuracy\n\nWhich operating system gets the most questions right, on average?\n"
      ]
    },
    {
      "cell_type": "code",
      "execution_count": null,
      "metadata": {
        "collapsed": false
      },
      "outputs": [],
      "source": [
        "import polars as pl\n\nimport src  # noqa\n\ndf = src.load_tables(\"Submission\")\n\ndf = (\n    df.group_by(\"osFamily\")\n    .agg(pl.col(\"correct\").cast(pl.Float64).mean() * 100)\n    .sort(\"correct\")\n    .filter(pl.col(\"osFamily\").str.len_chars() < 10)\n    .filter(pl.col(\"correct\") > 0)\n    .rename({\"correct\": \"percentCorrect\"})\n)\n\nprint(df)"
      ]
    }
  ],
  "metadata": {
    "kernelspec": {
      "display_name": "Python 3",
      "language": "python",
      "name": "python3"
    },
    "language_info": {
      "codemirror_mode": {
        "name": "ipython",
        "version": 3
      },
      "file_extension": ".py",
      "mimetype": "text/x-python",
      "name": "python",
      "nbconvert_exporter": "python",
      "pygments_lexer": "ipython3",
      "version": "3.11.10"
    }
  },
  "nbformat": 4,
  "nbformat_minor": 0
}