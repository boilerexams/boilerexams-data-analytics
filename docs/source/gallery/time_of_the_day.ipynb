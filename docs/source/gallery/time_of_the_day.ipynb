{
  "cells": [
    {
      "cell_type": "markdown",
      "metadata": {},
      "source": [
        "\n# Time Of Day Studying Density\n\nComparing MacOS and Windows studying activity throughout the day\n"
      ]
    },
    {
      "cell_type": "code",
      "execution_count": null,
      "metadata": {
        "collapsed": false
      },
      "outputs": [],
      "source": [
        "from datetime import timedelta as dt\n\nimport matplotlib.pyplot as plt\nimport polars as pl\n\nimport src  # noqa\n\ndf = src.load_tables(\"Submission\")\n\ndf = df.with_columns(pl.col(\"timeStarted\") - dt(hours=6))\n\nfor os_family in [\"Windows\", \"OS X\"]:\n    dfi = df.filter(\n        (pl.col(\"osFamily\") == os_family)\n        & (\n            pl.col(\"timeStarted\").dt.hour() + pl.col(\"timeStarted\").dt.minute() / 60\n            != 18.0\n        )\n    )\n    hour_of_day = dfi[\"timeStarted\"].dt.hour() + dfi[\"timeStarted\"].dt.minute() / 60\n\n    plt.hist(hour_of_day, bins=720, alpha=0.5, label=os_family, density=True)\n\nplt.legend()\nplt.xlabel(\"hour of day\")\nplt.ylabel(\"submission density\")\n\nplt.show()"
      ]
    }
  ],
  "metadata": {
    "kernelspec": {
      "display_name": "Python 3",
      "language": "python",
      "name": "python3"
    },
    "language_info": {
      "codemirror_mode": {
        "name": "ipython",
        "version": 3
      },
      "file_extension": ".py",
      "mimetype": "text/x-python",
      "name": "python",
      "nbconvert_exporter": "python",
      "pygments_lexer": "ipython3",
      "version": "3.11.10"
    }
  },
  "nbformat": 4,
  "nbformat_minor": 0
}