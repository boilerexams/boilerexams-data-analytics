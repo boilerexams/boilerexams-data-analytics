{
  "cells": [
    {
      "cell_type": "markdown",
      "metadata": {},
      "source": [
        "\n# Next Week's Exams\n\nPrints information for the next week of exams\n"
      ]
    },
    {
      "cell_type": "code",
      "execution_count": null,
      "metadata": {
        "collapsed": false
      },
      "outputs": [],
      "source": [
        "import datetime\n\nimport polars as pl\n\nimport src\n\ndfc = src.load_tables(\"course\").select(\"id\", \"number\", \"abbreviation\")\ndfe = (\n    src.load_tables(\"event\")\n    .select(\"start\", \"end\", \"courseId\")\n    .join(dfc, left_on=\"courseId\", right_on=\"id\")\n    .drop(\"courseId\")\n    .with_columns(pl.col(\"start\").dt.replace_time_zone(\"UTC\"))\n    .with_columns(\n        course_name=pl.col(\"abbreviation\") + \" \" + pl.col(\"number\").cast(str),\n        day_of_week=pl.col(\"start\").dt.to_string(\"%A\"),\n    )\n)\n\ntoday = datetime.datetime.now(tz=datetime.timezone.utc)\nhorizon = datetime.timedelta(days=7)\n\ndfe = dfe.select(\"course_name\", \"day_of_week\", \"start\")\n\nprint(\n    dfe.filter(pl.col(\"start\") > today, pl.col(\"start\") < today + horizon)\n    .unique(\"course_name\")\n    .sort(\"start\")\n    .with_columns(start=pl.col(\"start\").dt.convert_time_zone(\"EST\"))\n)"
      ]
    }
  ],
  "metadata": {
    "kernelspec": {
      "display_name": "Python 3",
      "language": "python",
      "name": "python3"
    },
    "language_info": {
      "codemirror_mode": {
        "name": "ipython",
        "version": 3
      },
      "file_extension": ".py",
      "mimetype": "text/x-python",
      "name": "python",
      "nbconvert_exporter": "python",
      "pygments_lexer": "ipython3",
      "version": "3.11.10"
    }
  },
  "nbformat": 4,
  "nbformat_minor": 0
}