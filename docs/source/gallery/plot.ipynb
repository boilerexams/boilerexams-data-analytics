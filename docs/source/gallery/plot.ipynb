{
  "cells": [
    {
      "cell_type": "markdown",
      "metadata": {},
      "source": [
        "\n# Plots\n"
      ]
    },
    {
      "cell_type": "code",
      "execution_count": null,
      "metadata": {
        "collapsed": false
      },
      "outputs": [],
      "source": [
        "import matplotlib.pyplot as plt\nimport numpy as np\nimport pandas as pd\n\nimport src  # noqa\n\ndf = src.load_tables(\"Submission\").to_pandas()\n\nreasonable_watch_m = 10\nreasonable_watch_s = reasonable_watch_m * 60\nreasonable_watch_ms = reasonable_watch_s * 1000\nms_to_hr = 3600000\n\nok_study_inds = (df[\"timeSpent\"] < reasonable_watch_ms) & (df[\"timeSpent\"] > 0)\nnot_attempted_videos = df[\"timeSpentModal\"] <= 0\nvideo_too_long = df[\"timeSpentModal\"] > reasonable_watch_ms\nok_study_inds_video = ~video_too_long & (df[\"timeSpentModal\"] > 0)\nthrown_out_videos = video_too_long | not_attempted_videos\n\nprint(f\"Total number of submissions: {len(df)}\")\nprint(f'Total video submissions: {np.sum(df[\"timeSpentModal\"] > 0)}')\nprint(f'Total time taken: {df[\"timeSpent\"].sum() / ms_to_hr:.2f} hours')\n\ntotal_study_time = df[\"timeSpent\"][ok_study_inds].sum() / ms_to_hr\ntotal_video_time = df[\"timeSpentVideo\"][ok_study_inds_video].sum() / ms_to_hr\nprint(f\"Total study hours < {reasonable_watch_m} mins: {total_study_time:.2f}\")\nprint(f\"Total video hours < {reasonable_watch_m} mins: {total_video_time:.2f}\")\n\nmean_study_time = df[\"timeSpent\"][ok_study_inds].mean() / ms_to_hr * 60\nprint(f\"Mean of valid study times: {mean_study_time:.2f} minutes\")\nmean_video_time = df[\"timeSpentVideo\"][ok_study_inds_video].mean() / ms_to_hr * 60\nprint(f\"Mean of valid video times: {mean_video_time:.2f} minutes\")\n\nextra_discounted_study = np.sum(~ok_study_inds) * mean_study_time / 60\nprint(\n    f\"Extra time due to discounted study indices: {extra_discounted_study :.2f} hours\"\n)\nextra_discounted_video = np.sum(video_too_long) * mean_video_time / 60\nprint(\n    f\"Extra time due to discounted video indices: {extra_discounted_video :.2f} hours\"\n)\ntotal_time = (\n    total_study_time\n    + total_video_time\n    + extra_discounted_study\n    + extra_discounted_video\n)\nprint(f\"Total time: {total_time:.2f} hours\")\n\n# time of the day\ndf[\"timeStarted\"] = pd.to_datetime(df[\"timeStarted\"])\n# hour of day\ndf[\"hour\"] = (\n    df[\"timeStarted\"].dt.hour + df[\"timeStarted\"].dt.minute / 60 - 5\n)  # UTC to EST\ndf[\"hour\"] = df[\"hour\"] % 24\n# day of week\ndf[\"day\"] = df[\"timeStarted\"].dt.dayofweek"
      ]
    },
    {
      "cell_type": "markdown",
      "metadata": {},
      "source": [
        "Submissions in the past 24 hours\n\n"
      ]
    },
    {
      "cell_type": "code",
      "execution_count": null,
      "metadata": {
        "collapsed": false
      },
      "outputs": [],
      "source": [
        "last_24_hr_inds = df[\"timeStarted\"] > pd.Timestamp.now() - pd.Timedelta(days=1)\nprint(f\"Submissions in the past 24 hours: {last_24_hr_inds.sum()}\")\nplt.figure()\nplt.hist(df[\"hour\"][last_24_hr_inds], bins=24)\nplt.title(\"Submissions in the past 24 hours\")\nplt.xlabel(\"Hour of day\")\nplt.ylabel(\"Submission count\")\nplt.xticks(\n    [0, 3, 6, 9, 12, 15, 18, 21],\n    [\"12am\", \"3am\", \"6am\", \"9am\", \"12pm\", \"3pm\", \"6pm\", \"9pm\"],\n)\nplt.show()"
      ]
    },
    {
      "cell_type": "markdown",
      "metadata": {},
      "source": [
        "2D heatmap of time of day and day of week\n\n"
      ]
    },
    {
      "cell_type": "code",
      "execution_count": null,
      "metadata": {
        "collapsed": false
      },
      "outputs": [],
      "source": [
        "plt.figure()\nplt.hist2d(df[\"hour\"][ok_study_inds], df[\"day\"][ok_study_inds], bins=(50, 7))\nplt.gca().invert_yaxis()\nplt.colorbar(label=\"Submission count\")\nplt.yticks([0, 1, 2, 3, 4, 5, 6], [\"Mon\", \"Tue\", \"Wed\", \"Thu\", \"Fri\", \"Sat\", \"Sun\"])\nplt.xticks(\n    [0, 3, 6, 9, 12, 15, 18, 21],\n    [\"12am\", \"3am\", \"6am\", \"9am\", \"12pm\", \"3pm\", \"6pm\", \"9pm\"],\n)\nplt.show()"
      ]
    },
    {
      "cell_type": "markdown",
      "metadata": {},
      "source": [
        "Plotting the mean time spent over the day\n\n"
      ]
    },
    {
      "cell_type": "code",
      "execution_count": null,
      "metadata": {
        "collapsed": false
      },
      "outputs": [],
      "source": [
        "hr_space = np.linspace(0, 23, 1000)\nvals = np.zeros(len(hr_space))\nfor i, hour in enumerate(hr_space):\n    inds = (df[\"hour\"] > hour - 0.5) & (df[\"hour\"] < hour + 0.5) & ok_study_inds\n    vals[i] = df[\"timeSpent\"][inds].mean() / ms_to_hr * 60\n\nplt.figure()\nplt.plot(hr_space, vals)\nplt.title(\"Mean time spent\")\nplt.xticks(\n    [0, 3, 6, 9, 12, 15, 18, 21],\n    [\"12am\", \"3am\", \"6am\", \"9am\", \"12pm\", \"3pm\", \"6pm\", \"9pm\"],\n)\nplt.ylabel(\"(min)\")\nplt.show()"
      ]
    },
    {
      "cell_type": "markdown",
      "metadata": {},
      "source": [
        "Plotting correctness over the day\n\n"
      ]
    },
    {
      "cell_type": "code",
      "execution_count": null,
      "metadata": {
        "collapsed": false
      },
      "outputs": [],
      "source": [
        "vals = np.zeros(len(hr_space))\nfor i, hour in enumerate(hr_space):\n    inds = (df[\"hour\"] > hour - 0.5) & (df[\"hour\"] < hour + 0.5)\n    vals[i] = df[\"correct\"][inds].mean()\n\nplt.figure()\nplt.plot(hr_space, vals)\nplt.title(\"Mean accuracy over the day\")\nplt.xticks(\n    [0, 3, 6, 9, 12, 15, 18, 21],\n    [\"12am\", \"3am\", \"6am\", \"9am\", \"12pm\", \"3pm\", \"6pm\", \"9pm\"],\n)\nplt.ylabel(\"Accuracy\")\nplt.gca().yaxis.set_major_formatter(plt.FuncFormatter(lambda x, _: f\"{x:.0%}\"))\nplt.show()"
      ]
    },
    {
      "cell_type": "markdown",
      "metadata": {},
      "source": [
        "Plot the time taken to complete each question and watch the video\n\n"
      ]
    },
    {
      "cell_type": "code",
      "execution_count": null,
      "metadata": {
        "collapsed": false
      },
      "outputs": [],
      "source": [
        "plt.figure(figsize=(10, 4))\nplt.subplot(1, 2, 1)\nplt.hist(df[\"timeSpent\"][ok_study_inds] / ms_to_hr, bins=100)\nplt.title(\"Question Time\")\nplt.xlabel(\"(hr)\")\nplt.ylabel(\"count\")\nplt.yscale(\"log\")\nplt.subplot(1, 2, 2)\nplt.hist(df[\"timeSpentModal\"][ok_study_inds_video] / ms_to_hr, bins=100)\nplt.title(\"Video Watch Time\")\nplt.xlabel(\"(hr)\")\nplt.ylabel(\"count\")\nplt.yscale(\"log\")\nplt.tight_layout()\nplt.show()"
      ]
    }
  ],
  "metadata": {
    "kernelspec": {
      "display_name": "Python 3",
      "language": "python",
      "name": "python3"
    },
    "language_info": {
      "codemirror_mode": {
        "name": "ipython",
        "version": 3
      },
      "file_extension": ".py",
      "mimetype": "text/x-python",
      "name": "python",
      "nbconvert_exporter": "python",
      "pygments_lexer": "ipython3",
      "version": "3.11.10"
    }
  },
  "nbformat": 4,
  "nbformat_minor": 0
}