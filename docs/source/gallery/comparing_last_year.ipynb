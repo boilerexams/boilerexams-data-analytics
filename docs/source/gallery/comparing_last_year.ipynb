{
  "cells": [
    {
      "cell_type": "markdown",
      "metadata": {},
      "source": [
        "\nComparing To Previous Semesters\n"
      ]
    },
    {
      "cell_type": "code",
      "execution_count": null,
      "metadata": {
        "collapsed": false
      },
      "outputs": [],
      "source": [
        "import datetime\n\nimport matplotlib.pyplot as plt\nimport numpy as np\nimport polars as pl\n\nimport src  # noqa\n\ndf = src.load_tables(\"Submission\")\n\ndf = (\n    df.select(\"timeStarted\")\n    .filter(pl.col(\"timeStarted\") > pl.date(2020, 1, 1))\n    .sort(\"timeStarted\")\n)\n\nstart_this_fall = datetime.date(2024, 8, 19)\nstart_last_fall = datetime.date(2023, 8, 21)\nstart_last_spring = datetime.date(2024, 1, 19)\n\nnow = datetime.date.today()\ntotal_days_this_year = now - start_this_fall\n\nfor start_date, label in [\n    (start_last_fall, \"F23\"),\n    (start_last_spring, \"S24\"),\n    (start_this_fall, \"F24\"),\n]:\n    df2 = (\n        df.filter(\n            pl.col(\"timeStarted\") > start_date,\n            pl.col(\"timeStarted\") < start_date + total_days_this_year,\n        )\n        .group_by(\n            pl.col(\"timeStarted\").dt.ordinal_day() * 24\n            + pl.col(\"timeStarted\").dt.hour()\n        )\n        .len()\n        .sort(\"timeStarted\")\n    )\n    print(start_date, start_date + total_days_this_year)\n\n    time_started_full = pl.DataFrame(\n        {\n            \"timeStarted\": np.arange(\n                df2[\"timeStarted\"][0], df2[\"timeStarted\"][-1] + 1, dtype=np.int16\n            )\n        }\n    )\n    time_started_full = time_started_full.with_columns(\n        (pl.col(\"timeStarted\") * 0).alias(\"len\")\n    )\n\n    df2 = df2.join(time_started_full, on=\"timeStarted\", how=\"right\").drop(\"len_right\")\n    df2 = df2.fill_null(0)\n\n    print(label, df2[\"len\"].sum())\n\n    df2 = df2.with_columns(pl.col(\"len\").cum_sum().alias(\"len_cum\"))\n\n    x = (df2[\"timeStarted\"] - df2[\"timeStarted\"][0]) / 24\n    y = df2[\"len_cum\"] / 1e5\n    plt.plot(x, y, label=label, linewidth=2)\n    plt.fill_between(x, 0 * y, y, alpha=0.1)\n\nplt.ylabel(\"Total submissions (hundreds of thousands)\")\nplt.xlabel(\"Day of the semester\")\nplt.xlim([0, total_days_this_year.days])\nplt.legend()\nplt.grid()\nplt.tight_layout()\nplt.show()"
      ]
    }
  ],
  "metadata": {
    "kernelspec": {
      "display_name": "Python 3",
      "language": "python",
      "name": "python3"
    },
    "language_info": {
      "codemirror_mode": {
        "name": "ipython",
        "version": 3
      },
      "file_extension": ".py",
      "mimetype": "text/x-python",
      "name": "python",
      "nbconvert_exporter": "python",
      "pygments_lexer": "ipython3",
      "version": "3.11.10"
    }
  },
  "nbformat": 4,
  "nbformat_minor": 0
}